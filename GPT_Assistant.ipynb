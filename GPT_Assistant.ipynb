{
  "nbformat": 4,
  "nbformat_minor": 0,
  "metadata": {
    "colab": {
      "provenance": []
    },
    "kernelspec": {
      "name": "python3",
      "display_name": "Python 3"
    },
    "language_info": {
      "name": "python"
    }
  },
  "cells": [
    {
      "cell_type": "markdown",
      "source": [
        "# GPT Assistant\n",
        "- To use OpenAI yourself, go to OpenAI API and create your own key"
      ],
      "metadata": {
        "id": "4XFpRrO-tR_D"
      }
    },
    {
      "cell_type": "markdown",
      "source": [
        "**References:** https://www.oreilly.com/library/view/developing-apps-with/9781098152475/"
      ],
      "metadata": {
        "id": "PLURAZ2Kzup5"
      }
    },
    {
      "cell_type": "code",
      "execution_count": null,
      "metadata": {
        "colab": {
          "base_uri": "https://localhost:8080/"
        },
        "id": "3tTxONqFrbjR",
        "outputId": "78d36b63-23c6-4b4c-bf34-60220a102e02"
      },
      "outputs": [
        {
          "output_type": "stream",
          "name": "stdout",
          "text": [
            "Collecting openai\n",
            "  Downloading openai-1.23.2-py3-none-any.whl (311 kB)\n",
            "\u001b[2K     \u001b[90m━━━━━━━━━━━━━━━━━━━━━━━━━━━━━━━━━━━━━━━━\u001b[0m \u001b[32m311.2/311.2 kB\u001b[0m \u001b[31m4.4 MB/s\u001b[0m eta \u001b[36m0:00:00\u001b[0m\n",
            "\u001b[?25hRequirement already satisfied: anyio<5,>=3.5.0 in /usr/local/lib/python3.10/dist-packages (from openai) (3.7.1)\n",
            "Requirement already satisfied: distro<2,>=1.7.0 in /usr/lib/python3/dist-packages (from openai) (1.7.0)\n",
            "Collecting httpx<1,>=0.23.0 (from openai)\n",
            "  Downloading httpx-0.27.0-py3-none-any.whl (75 kB)\n",
            "\u001b[2K     \u001b[90m━━━━━━━━━━━━━━━━━━━━━━━━━━━━━━━━━━━━━━━━\u001b[0m \u001b[32m75.6/75.6 kB\u001b[0m \u001b[31m1.8 MB/s\u001b[0m eta \u001b[36m0:00:00\u001b[0m\n",
            "\u001b[?25hRequirement already satisfied: pydantic<3,>=1.9.0 in /usr/local/lib/python3.10/dist-packages (from openai) (2.7.0)\n",
            "Requirement already satisfied: sniffio in /usr/local/lib/python3.10/dist-packages (from openai) (1.3.1)\n",
            "Requirement already satisfied: tqdm>4 in /usr/local/lib/python3.10/dist-packages (from openai) (4.66.2)\n",
            "Requirement already satisfied: typing-extensions<5,>=4.7 in /usr/local/lib/python3.10/dist-packages (from openai) (4.11.0)\n",
            "Requirement already satisfied: idna>=2.8 in /usr/local/lib/python3.10/dist-packages (from anyio<5,>=3.5.0->openai) (3.7)\n",
            "Requirement already satisfied: exceptiongroup in /usr/local/lib/python3.10/dist-packages (from anyio<5,>=3.5.0->openai) (1.2.1)\n",
            "Requirement already satisfied: certifi in /usr/local/lib/python3.10/dist-packages (from httpx<1,>=0.23.0->openai) (2024.2.2)\n",
            "Collecting httpcore==1.* (from httpx<1,>=0.23.0->openai)\n",
            "  Downloading httpcore-1.0.5-py3-none-any.whl (77 kB)\n",
            "\u001b[2K     \u001b[90m━━━━━━━━━━━━━━━━━━━━━━━━━━━━━━━━━━━━━━━━\u001b[0m \u001b[32m77.9/77.9 kB\u001b[0m \u001b[31m6.3 MB/s\u001b[0m eta \u001b[36m0:00:00\u001b[0m\n",
            "\u001b[?25hCollecting h11<0.15,>=0.13 (from httpcore==1.*->httpx<1,>=0.23.0->openai)\n",
            "  Downloading h11-0.14.0-py3-none-any.whl (58 kB)\n",
            "\u001b[2K     \u001b[90m━━━━━━━━━━━━━━━━━━━━━━━━━━━━━━━━━━━━━━━━\u001b[0m \u001b[32m58.3/58.3 kB\u001b[0m \u001b[31m4.9 MB/s\u001b[0m eta \u001b[36m0:00:00\u001b[0m\n",
            "\u001b[?25hRequirement already satisfied: annotated-types>=0.4.0 in /usr/local/lib/python3.10/dist-packages (from pydantic<3,>=1.9.0->openai) (0.6.0)\n",
            "Requirement already satisfied: pydantic-core==2.18.1 in /usr/local/lib/python3.10/dist-packages (from pydantic<3,>=1.9.0->openai) (2.18.1)\n",
            "Installing collected packages: h11, httpcore, httpx, openai\n",
            "Successfully installed h11-0.14.0 httpcore-1.0.5 httpx-0.27.0 openai-1.23.2\n"
          ]
        }
      ],
      "source": [
        "!pip install openai"
      ]
    },
    {
      "cell_type": "code",
      "source": [
        "import os\n",
        "from openai import OpenAI\n",
        "os.environ[\"OPENAI_API_KEY\"] =\"API_KEY\" # Enter your API_KEY\n",
        "\n",
        "from openai import OpenAI\n",
        "\n",
        "client = OpenAI()"
      ],
      "metadata": {
        "id": "ZPOd3moZsx0w"
      },
      "execution_count": null,
      "outputs": []
    },
    {
      "cell_type": "code",
      "source": [
        "from typing import List\n",
        "\n",
        "def ask_chatgpt(messages):\n",
        "    response = client.chat.completions.create(model=\"gpt-3.5-turbo\",\n",
        "                                              messages=messages)\n",
        "    return (response.choices[0].message.content)\n",
        "\n",
        "# Prompting helps ChatGPT know what you want\n",
        "prompt_role = '''You are an assistant for journalists.\n",
        "Your task is to write articles, based on the FACTS that are given to you.\n",
        "You should respect the instructions: the TONE, the LENGTH, and the STYLE'''\n",
        "\n",
        "\n",
        "def assist_journalist(\n",
        "        facts: List[str], # List of words, want to join w. commas to give a full string to GPT\n",
        "        tone: str, length_words: int, style: str): # Takes a string for the tone and an int for the length of words, as well as a string for the style\n",
        "    facts = \", \".join(facts)\n",
        "    prompt = f'{prompt_role}\\nFACTS: {facts}\\nTONE: {tone}\\nLENGTH: {length_words} words\\nSTYLE: {style}'\n",
        "    return ask_chatgpt([{\"role\": \"user\", \"content\": prompt}])\n",
        "\n",
        "# Using text completion\n",
        "# Produces an output in the format of the input\n",
        "print(\n",
        "    assist_journalist(\n",
        "        ['The sky is blue', 'The grass is green'],\n",
        "        'informal', 100, 'blogpost'))"
      ],
      "metadata": {
        "colab": {
          "base_uri": "https://localhost:8080/"
        },
        "id": "bPOecMoBszeN",
        "outputId": "2d983324-c2c5-41d2-d602-d015e5199e50"
      },
      "execution_count": null,
      "outputs": [
        {
          "output_type": "stream",
          "name": "stdout",
          "text": [
            "Hey everyone! Have you ever stopped to think about how amazing our world is? I mean, just look up at the sky - it's a beautiful shade of blue that never fails to impress. And the grass below our feet? It's a vibrant green that brings a sense of calm and beauty to any space. These simple facts may seem small, but they remind us of the natural wonders all around us. So next time you're feeling stressed or overwhelmed, just take a moment to appreciate the blue sky and green grass - it's the little things that can bring so much joy.\n"
          ]
        }
      ]
    },
    {
      "cell_type": "markdown",
      "source": [
        "Output:\n",
        "\n",
        "\n",
        "Hey everyone! Have you ever stopped to think about how amazing our world is? I mean, just look up at the sky - it's a beautiful shade of blue that never fails to impress. And the grass below our feet? It's a vibrant green that brings a sense of calm and beauty to any space. These simple facts may seem small, but they remind us of the natural wonders all around us. So next time you're feeling stressed or overwhelmed, just take a moment to appreciate the blue sky and green grass - it's the little things that can bring so much joy.\n"
      ],
      "metadata": {
        "id": "UylUFoklvS49"
      }
    },
    {
      "cell_type": "code",
      "source": [
        "print(\n",
        "    assist_journalist(['Guinea pigs are the preferred pet', 'Guinea pigs are more popular than dogs!'], 'news flash', 50, 'excited')\n",
        ")"
      ],
      "metadata": {
        "colab": {
          "base_uri": "https://localhost:8080/"
        },
        "id": "Ul5T9GJMu3ux",
        "outputId": "d948f66c-9faf-4c7d-d18f-09114c7e3a41"
      },
      "execution_count": null,
      "outputs": [
        {
          "output_type": "stream",
          "name": "stdout",
          "text": [
            "**News Flash: Guinea Pigs Surpass Dogs as Preferred Pets!**\n",
            "\n",
            "In a surprising turn of events, guinea pigs have overtaken dogs as the most popular pet choice. With their adorable squeaks and playful nature, guinea pigs are winning the hearts of pet owners everywhere. Could this be the rise of the guinea pig era? Stay tuned for more updates!\n"
          ]
        }
      ]
    },
    {
      "cell_type": "markdown",
      "source": [
        "Output:\n",
        "\n",
        "\n",
        "\n",
        "In a surprising turn of events, guinea pigs have overtaken dogs as the most popular pet choice. With their adorable squeaks and playful nature, guinea pigs are winning the hearts of pet owners everywhere. Could this be the rise of the guinea pig era? Stay tuned for more updates!\n",
        "\n"
      ],
      "metadata": {
        "id": "XGH9Tx_nvQj_"
      }
    }
  ]
}